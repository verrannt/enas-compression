{
 "cells": [
  {
   "cell_type": "code",
   "execution_count": 74,
   "metadata": {
    "id": "-Q5a5FGczpI_"
   },
   "outputs": [],
   "source": [
    "import os\n",
    "import torch\n",
    "import torch.nn.functional as F\n",
    "import numpy as np\n",
    "import matplotlib.pyplot as plt\n",
    "from sklearn.metrics import confusion_matrix\n",
    "from torch import nn\n",
    "from torch.utils.data import DataLoader\n",
    "from torchvision import datasets, transforms\n",
    "from torchvision.transforms import ToTensor, Lambda\n",
    "\n",
    "np.random.seed(129)"
   ]
  },
  {
   "cell_type": "markdown",
   "metadata": {},
   "source": [
    "# FashionMNIST"
   ]
  },
  {
   "cell_type": "code",
   "execution_count": 76,
   "metadata": {},
   "outputs": [],
   "source": [
    "training_data = datasets.FashionMNIST(\n",
    "    root=\"data\",\n",
    "    train=True,\n",
    "    download=False,\n",
    "    transform=ToTensor()\n",
    ")\n",
    "\n",
    "test_data = datasets.FashionMNIST(\n",
    "    root=\"data\",\n",
    "    train=False,\n",
    "    download=False,\n",
    "    transform=ToTensor()\n",
    ")"
   ]
  },
  {
   "cell_type": "code",
   "execution_count": 77,
   "metadata": {},
   "outputs": [],
   "source": [
    "from torch.utils.data import DataLoader\n",
    "\n",
    "train_dataloader = DataLoader(training_data, batch_size=64, shuffle=True)\n",
    "test_dataloader = DataLoader(test_data, batch_size=64, shuffle=True)"
   ]
  },
  {
   "cell_type": "code",
   "execution_count": 78,
   "metadata": {},
   "outputs": [
    {
     "name": "stdout",
     "output_type": "stream",
     "text": [
      "Feature batch shape: torch.Size([64, 1, 28, 28])\n",
      "Labels batch shape: torch.Size([64])\n"
     ]
    },
    {
     "data": {
      "image/png": "[encoded data removed]",
      "text/plain": [
       "<Figure size 432x288 with 1 Axes>"
      ]
     },
     "metadata": {
      "needs_background": "light"
     },
     "output_type": "display_data"
    },
    {
     "name": "stdout",
     "output_type": "stream",
     "text": [
      "Label: 0\n"
     ]
    }
   ],
   "source": [
    "# Display image and label.\n",
    "batch_x, batch_y = next(iter(train_dataloader))\n",
    "print(f\"Feature batch shape: {batch_x.size()}\")\n",
    "print(f\"Labels batch shape: {batch_y.size()}\")\n",
    "img = batch_x[0].squeeze()\n",
    "label = batch_y[0]\n",
    "plt.imshow(img, cmap=\"gray\")\n",
    "plt.show()\n",
    "print(f\"Label: {label}\")"
   ]
  },
  {
   "cell_type": "code",
   "execution_count": 81,
   "metadata": {},
   "outputs": [
    {
     "data": {
      "text/plain": [
       "784"
      ]
     },
     "execution_count": 81,
     "metadata": {},
     "output_type": "execute_result"
    }
   ],
   "source": [
    "dim_num = training_data[0][0].size()[1] *  training_data[0][0].size()[2]\n",
    "dim_num"
   ]
  },
  {
   "cell_type": "markdown",
   "metadata": {},
   "source": [
    "# Define Network(s)"
   ]
  },
  {
   "cell_type": "code",
   "execution_count": 82,
   "metadata": {
    "colab": {
     "base_uri": "https://localhost:8080/"
    },
    "id": "oDFlN6zr8HQ1",
    "outputId": "1103245e-d7e8-4c62-acad-2362112c0bb1"
   },
   "outputs": [
    {
     "name": "stdout",
     "output_type": "stream",
     "text": [
      "Using cpu device\n"
     ]
    }
   ],
   "source": [
    "device = 'cuda' if torch.cuda.is_available() else 'cpu'\n",
    "print('Using {} device'.format(device))\n",
    "\n",
    "class NeuralNetwork(nn.Module):\n",
    "    def __init__(self, n_hidden=256):\n",
    "        super(NeuralNetwork, self).__init__()\n",
    "        self.flatten = nn.Flatten()\n",
    "        self.linear_relu_stack = nn.Sequential(\n",
    "            nn.Flatten(),\n",
    "            nn.Linear(dim_num, n_hidden),\n",
    "            nn.ReLU(),\n",
    "            #nn.Dropout(.1),\n",
    "            #nn.Linear(n_hidden, n_hidden),\n",
    "            #nn.ReLU(),\n",
    "            #nn.Dropout(.1),\n",
    "            nn.Linear(n_hidden, 10),\n",
    "            #nn.Softmax(-1)\n",
    "        )\n",
    "\n",
    "    def forward(self, x):\n",
    "        x = self.flatten(x)\n",
    "        logits = self.linear_relu_stack(x)\n",
    "        return logits\n",
    "    \n",
    "def getNeuralNet(dim_num=784, n_hidden=256, n_classes=10):\n",
    "    return nn.Sequential(\n",
    "        nn.Flatten(),\n",
    "        nn.Linear(dim_num, n_hidden),\n",
    "        nn.ReLU(),\n",
    "        #nn.Dropout(.1),\n",
    "        nn.Linear(n_hidden, n_hidden),\n",
    "        nn.ReLU(),\n",
    "        #nn.Dropout(.1),\n",
    "        nn.Linear(n_hidden, n_classes)\n",
    "    )"
   ]
  },
  {
   "cell_type": "code",
   "execution_count": 83,
   "metadata": {},
   "outputs": [],
   "source": [
    "net1 = getNeuralNet(dim_num, 32, 10)\n",
    "net2 = getNeuralNet(dim_num,  8, 10)"
   ]
  },
  {
   "cell_type": "code",
   "execution_count": 84,
   "metadata": {
    "id": "IzLgx_YSBMxP"
   },
   "outputs": [],
   "source": [
    "#for name, param in model.named_parameters():\n",
    "#    print(f\"Layer: {name} | Size: {param.size()} | Values : {param[:2]} \\n\")"
   ]
  },
  {
   "cell_type": "code",
   "execution_count": 85,
   "metadata": {
    "id": "AhbhtehdBmt1"
   },
   "outputs": [],
   "source": [
    "learning_rate = 1e-3\n",
    "#batch_size = 64\n",
    "epochs = 4\n",
    "loss_fn = nn.CrossEntropyLoss()\n",
    "optimizer1 = torch.optim.Adam(net1.parameters(), lr=learning_rate)\n",
    "optimizer2 = torch.optim.Adam(net2.parameters(), lr=learning_rate)"
   ]
  },
  {
   "cell_type": "markdown",
   "metadata": {},
   "source": [
    "# Training"
   ]
  },
  {
   "cell_type": "code",
   "execution_count": 89,
   "metadata": {
    "id": "l-xLc677Dt8X"
   },
   "outputs": [],
   "source": [
    "def train_loop(dataloader, model, loss_fn, optimizer):\n",
    "    size = len(dataloader)\n",
    "    train_losses = []\n",
    "    for step, (X, y) in enumerate(dataloader):\n",
    "        # Compute prediction and loss\n",
    "        pred = model(X)\n",
    "        loss = loss_fn(pred, y)\n",
    "\n",
    "        # Backpropagation\n",
    "        optimizer.zero_grad()\n",
    "        loss.backward()\n",
    "        optimizer.step()\n",
    "        \n",
    "        train_losses.append(loss.item())\n",
    "        \n",
    "    return np.mean(train_losses)\n",
    "\n",
    "\n",
    "def test_loop(dataloader, model, loss_fn):\n",
    "    size = len(dataloader.dataset)\n",
    "    test_loss, correct = 0, 0\n",
    "    predictions = []\n",
    "    \n",
    "    with torch.no_grad():\n",
    "        for X,y in dataloader:\n",
    "            # Compute prediction and loss\n",
    "            pred = model(X)\n",
    "            predictions.append(pred)\n",
    "            test_loss += loss_fn(pred, y).item()\n",
    "            correct += (pred.argmax(1) == y).type(torch.float).sum().item()\n",
    "\n",
    "    test_loss /= size\n",
    "    correct /= size\n",
    "    print(f\"Test Error: \\n Accuracy: {(100*correct):>0.1f}%, Avg loss: {test_loss:>8f} \\n\")\n",
    "    \n",
    "    return predictions"
   ]
  },
  {
   "cell_type": "code",
   "execution_count": 90,
   "metadata": {
    "colab": {
     "base_uri": "https://localhost:8080/"
    },
    "id": "xWGtPpTvOmNL",
    "outputId": "befabc8c-d3ba-4365-bb96-f2907a59d6fb"
   },
   "outputs": [
    {
     "name": "stdout",
     "output_type": "stream",
     "text": [
      "Epoch 1/4\n",
      "Epoch 2/4\n",
      "Epoch 3/4\n",
      "Epoch 4/4\n",
      "Done!\n"
     ]
    }
   ],
   "source": [
    "losses1, losses2 = [], []\n",
    "from rich.progress import track\n",
    "for t in range(epochs):\n",
    "    print(\"Epoch {}/{}\".format(t+1,epochs))\n",
    "    losses1.append(train_loop(train_dataloader, net1, loss_fn, optimizer1))\n",
    "    losses2.append(train_loop(train_dataloader, net2, loss_fn, optimizer2))\n",
    "    #test_loop(test, test_labels, model, loss_fn)\n",
    "print(\"Done!\")"
   ]
  },
  {
   "cell_type": "code",
   "execution_count": 91,
   "metadata": {
    "colab": {
     "base_uri": "https://localhost:8080/"
    },
    "id": "9B0XPR-Kijxj",
    "outputId": "99af515f-8647-44fb-afa5-0c69cec69ae4"
   },
   "outputs": [
    {
     "name": "stdout",
     "output_type": "stream",
     "text": [
      "Test Error: \n",
      " Accuracy: 84.5%, Avg loss: 0.006659 \n",
      "\n",
      "Test Error: \n",
      " Accuracy: 81.5%, Avg loss: 0.008377 \n",
      "\n"
     ]
    }
   ],
   "source": [
    "predictions1 = test_loop(test_dataloader, net1, loss_fn)\n",
    "predictions2 = test_loop(test_dataloader, net2, loss_fn)"
   ]
  },
  {
   "cell_type": "code",
   "execution_count": 92,
   "metadata": {
    "colab": {
     "base_uri": "https://localhost:8080/",
     "height": 283
    },
    "id": "LsHAxDbl3_JV",
    "outputId": "773b5394-cdc6-4ef8-bfdc-225107e1ef9c"
   },
   "outputs": [
    {
     "data": {
      "image/png": "[encoded data removed]",
      "text/plain": [
       "<Figure size 432x288 with 1 Axes>"
      ]
     },
     "metadata": {
      "needs_background": "light"
     },
     "output_type": "display_data"
    }
   ],
   "source": [
    "import matplotlib.pyplot as plt\n",
    "plt.plot(losses1, label='Net 1')\n",
    "plt.plot(losses2, label='Net 1')\n",
    "plt.legend()\n",
    "plt.show()"
   ]
  },
  {
   "cell_type": "markdown",
   "metadata": {},
   "source": [
    "# Embeddings"
   ]
  },
  {
   "cell_type": "code",
   "execution_count": 93,
   "metadata": {},
   "outputs": [],
   "source": [
    "# Define function to get subnet from given network at index\n",
    "def get_subnet(parent_net, break_layer_idx = '1'):\n",
    "    children_list = []\n",
    "    for n,c in parent_net.named_children():\n",
    "        children_list.append(c)\n",
    "        if n == break_layer_idx:\n",
    "            break\n",
    "    sub_net = nn.Sequential(*children_list)\n",
    "    return sub_net"
   ]
  },
  {
   "cell_type": "code",
   "execution_count": 94,
   "metadata": {},
   "outputs": [
    {
     "data": {
      "text/plain": [
       "Sequential(\n",
       "  (0): Flatten(start_dim=1, end_dim=-1)\n",
       "  (1): Linear(in_features=784, out_features=32, bias=True)\n",
       "  (2): ReLU()\n",
       "  (3): Linear(in_features=32, out_features=32, bias=True)\n",
       "  (4): ReLU()\n",
       "  (5): Linear(in_features=32, out_features=10, bias=True)\n",
       ")"
      ]
     },
     "execution_count": 94,
     "metadata": {},
     "output_type": "execute_result"
    }
   ],
   "source": [
    "# Print one of the original networks as reference\n",
    "net1"
   ]
  },
  {
   "cell_type": "code",
   "execution_count": 95,
   "metadata": {},
   "outputs": [],
   "source": [
    "# Get the subnetworks\n",
    "sub_net1 = get_subnet(net1)\n",
    "sub_net2 = get_subnet(net2)"
   ]
  },
  {
   "cell_type": "code",
   "execution_count": 96,
   "metadata": {},
   "outputs": [
    {
     "data": {
      "text/plain": [
       "Sequential(\n",
       "  (0): Flatten(start_dim=1, end_dim=-1)\n",
       "  (1): Linear(in_features=784, out_features=32, bias=True)\n",
       ")"
      ]
     },
     "execution_count": 96,
     "metadata": {},
     "output_type": "execute_result"
    }
   ],
   "source": [
    "sub_net1"
   ]
  },
  {
   "cell_type": "code",
   "execution_count": 97,
   "metadata": {},
   "outputs": [],
   "source": [
    "# Get DataLoader with larger batch_size\n",
    "dl = DataLoader(training_data, batch_size=400, shuffle=False)\n",
    "batch_x, batch_y = next(iter(dl))"
   ]
  },
  {
   "cell_type": "code",
   "execution_count": 98,
   "metadata": {},
   "outputs": [],
   "source": [
    "# Get embeddings for batch\n",
    "emb1 = sub_net1(batch_x).detach().numpy()\n",
    "emb2 = sub_net2(batch_x).detach().numpy()"
   ]
  },
  {
   "cell_type": "code",
   "execution_count": 99,
   "metadata": {},
   "outputs": [
    {
     "data": {
      "text/plain": [
       "(400, 8)"
      ]
     },
     "execution_count": 99,
     "metadata": {},
     "output_type": "execute_result"
    }
   ],
   "source": [
    "emb2.shape"
   ]
  },
  {
   "cell_type": "code",
   "execution_count": 103,
   "metadata": {},
   "outputs": [],
   "source": [
    "# Get t-SNE embeddings for the outputs\n",
    "from sklearn.manifold import TSNE\n",
    "tsne1 = TSNE(n_components=2).fit_transform(emb1)\n",
    "tsne2 = TSNE(n_components=2).fit_transform(emb2)"
   ]
  },
  {
   "cell_type": "code",
   "execution_count": 104,
   "metadata": {},
   "outputs": [
    {
     "data": {
      "image/png": "[encoded data removed]",
      "text/plain": [
       "<Figure size 720x288 with 2 Axes>"
      ]
     },
     "metadata": {
      "needs_background": "light"
     },
     "output_type": "display_data"
    }
   ],
   "source": [
    "plt.figure(figsize=(10,4))\n",
    "plt.subplot(121)\n",
    "plt.scatter(tsne1[:,0], tsne1[:,1], c=batch_y)\n",
    "plt.subplot(122)\n",
    "plt.scatter(tsne2[:,0], tsne2[:,1], c=batch_y)\n",
    "plt.show()"
   ]
  },
  {
   "cell_type": "markdown",
   "metadata": {},
   "source": [
    "# Embedding Fitness"
   ]
  },
  {
   "cell_type": "code",
   "execution_count": 130,
   "metadata": {},
   "outputs": [],
   "source": [
    "euclid = lambda x,y: np.linalg.norm(x-y,ord=2)\n",
    "\n",
    "def p_j_i(embeddings, j, i):\n",
    "    \n",
    "    sigmai2 = 1\n",
    "    \n",
    "    exp_fn = lambda xj,xi: np.exp(-euclid(xi, xj)**2 / 2*sigmai2)\n",
    "    \n",
    "    nominator = exp_fn(embeddings[j], embeddings[i])\n",
    "    \n",
    "    denominator = np.sum([\n",
    "        exp_fn(embeddings[k], embeddings[i])\n",
    "            for k in range(len(embeddings)) if k != i\n",
    "    ])\n",
    "    \n",
    "    return nominator / denominator\n",
    "\n",
    "def pij(embeddings, i, j):\n",
    "    N = len(embeddings)\n",
    "    return (p_j_i(embeddings, j, i) + p_j_i(embeddings, i, j)) / 2*N"
   ]
  },
  {
   "cell_type": "code",
   "execution_count": 138,
   "metadata": {},
   "outputs": [
    {
     "data": {
      "text/plain": [
       "array([[ 1,  2],\n",
       "       [ 3,  4],\n",
       "       [ 5,  6],\n",
       "       [ 7,  8],\n",
       "       [ 9, 10]])"
      ]
     },
     "execution_count": 138,
     "metadata": {},
     "output_type": "execute_result"
    }
   ],
   "source": [
    "embeddings = np.arange(1,11).reshape((5,2))\n",
    "embeddings"
   ]
  },
  {
   "cell_type": "code",
   "execution_count": 141,
   "metadata": {},
   "outputs": [
    {
     "name": "stdout",
     "output_type": "stream",
     "text": [
      "[3 4] [3 4]\n",
      "[3 4] [1 2]\n",
      "[3 4] [5 6]\n",
      "[3 4] [7 8]\n",
      "[3 4] [ 9 10]\n"
     ]
    },
    {
     "data": {
      "text/plain": [
       "27.29899115117264"
      ]
     },
     "execution_count": 141,
     "metadata": {},
     "output_type": "execute_result"
    }
   ],
   "source": [
    "p_j_i(embeddings, 1, 1)\n",
    "#pij(embeddings, j=1, i=1)"
   ]
  }
 ],
 "metadata": {
  "accelerator": "GPU",
  "colab": {
   "collapsed_sections": [],
   "name": "NatCo Project.ipynb",
   "provenance": []
  },
  "kernelspec": {
   "display_name": "Python 3",
   "language": "python",
   "name": "python3"
  },
  "language_info": {
   "codemirror_mode": {
    "name": "ipython",
    "version": 3
   },
   "file_extension": ".py",
   "mimetype": "text/x-python",
   "name": "python",
   "nbconvert_exporter": "python",
   "pygments_lexer": "ipython3",
   "version": "3.9.2"
  }
 },
 "nbformat": 4,
 "nbformat_minor": 4
}

{
 "cells": [
  {
   "cell_type": "code",
   "execution_count": 1,
   "metadata": {
    "id": "-Q5a5FGczpI_"
   },
   "outputs": [],
   "source": [
    "import os\n",
    "import torch\n",
    "import torch.nn.functional as F\n",
    "import numpy as np\n",
    "import matplotlib.pyplot as plt\n",
    "from sklearn.metrics import confusion_matrix, \\\n",
    "                            pairwise_distances, \\\n",
    "                            mean_squared_error\n",
    "from torch import nn\n",
    "from torch.utils.data import DataLoader\n",
    "from torchvision import datasets, transforms\n",
    "from torchvision.transforms import ToTensor, Lambda\n",
    "\n",
    "np.random.seed(129)"
   ]
  },
  {
   "cell_type": "markdown",
   "metadata": {},
   "source": [
    "# FashionMNIST"
   ]
  },
  {
   "cell_type": "code",
   "execution_count": 2,
   "metadata": {},
   "outputs": [],
   "source": [
    "training_data = datasets.FashionMNIST(\n",
    "    root=\"../data\",\n",
    "    train=True,\n",
    "    download=True,\n",
    "    transform=ToTensor()\n",
    ")\n",
    "\n",
    "test_data = datasets.FashionMNIST(\n",
    "    root=\"../data\",\n",
    "    train=False,\n",
    "    download=True,\n",
    "    transform=ToTensor()\n",
    ")"
   ]
  },
  {
   "cell_type": "code",
   "execution_count": 3,
   "metadata": {},
   "outputs": [],
   "source": [
    "from torch.utils.data import DataLoader\n",
    "\n",
    "train_dataloader = DataLoader(training_data, batch_size=64, shuffle=True)\n",
    "test_dataloader = DataLoader(test_data, batch_size=64, shuffle=True)"
   ]
  },
  {
   "cell_type": "code",
   "execution_count": 4,
   "metadata": {},
   "outputs": [
    {
     "name": "stdout",
     "output_type": "stream",
     "text": [
      "Feature batch shape: torch.Size([64, 1, 28, 28])\n",
      "Labels batch shape: torch.Size([64])\n"
     ]
    },
    {
     "data": {
      "image/png": "[encoded data removed]",
      "text/plain": [
       "<Figure size 432x288 with 1 Axes>"
      ]
     },
     "metadata": {
      "needs_background": "light"
     },
     "output_type": "display_data"
    },
    {
     "name": "stdout",
     "output_type": "stream",
     "text": [
      "Label: 7\n"
     ]
    }
   ],
   "source": [
    "# Display image and label.\n",
    "batch_x, batch_y = next(iter(train_dataloader))\n",
    "print(f\"Feature batch shape: {batch_x.size()}\")\n",
    "print(f\"Labels batch shape: {batch_y.size()}\")\n",
    "img = batch_x[0].squeeze()\n",
    "label = batch_y[0]\n",
    "plt.imshow(img, cmap=\"gray\")\n",
    "plt.show()\n",
    "print(f\"Label: {label}\")"
   ]
  },
  {
   "cell_type": "code",
   "execution_count": 5,
   "metadata": {},
   "outputs": [
    {
     "data": {
      "text/plain": [
       "784"
      ]
     },
     "execution_count": 5,
     "metadata": {},
     "output_type": "execute_result"
    }
   ],
   "source": [
    "dim_num = training_data[0][0].size()[1] *  training_data[0][0].size()[2]\n",
    "dim_num"
   ]
  },
  {
   "cell_type": "markdown",
   "metadata": {},
   "source": [
    "# Define Network(s)"
   ]
  },
  {
   "cell_type": "code",
   "execution_count": 57,
   "metadata": {
    "colab": {
     "base_uri": "https://localhost:8080/"
    },
    "id": "oDFlN6zr8HQ1",
    "outputId": "1103245e-d7e8-4c62-acad-2362112c0bb1"
   },
   "outputs": [
    {
     "name": "stdout",
     "output_type": "stream",
     "text": [
      "Using cpu device\n"
     ]
    }
   ],
   "source": [
    "device = 'cuda' if torch.cuda.is_available() else 'cpu'\n",
    "print('Using {} device'.format(device))\n",
    "\n",
    "class NeuralNetwork(nn.Module):\n",
    "    def __init__(self, n_hidden=256):\n",
    "        super(NeuralNetwork, self).__init__()\n",
    "        self.flatten = nn.Flatten()\n",
    "        self.linear_relu_stack = nn.Sequential(\n",
    "            nn.Flatten(),\n",
    "            nn.Linear(dim_num, n_hidden),\n",
    "            nn.ReLU(),\n",
    "            #nn.Dropout(.1),\n",
    "            #nn.Linear(n_hidden, n_hidden),\n",
    "            #nn.ReLU(),\n",
    "            #nn.Dropout(.1),\n",
    "            nn.Linear(n_hidden, 10),\n",
    "            #nn.Softmax(-1)\n",
    "        )\n",
    "\n",
    "    def forward(self, x):\n",
    "        x = self.flatten(x)\n",
    "        logits = self.linear_relu_stack(x)\n",
    "        return logits\n",
    "    \n",
    "def getNeuralNet(dim_num=784, n_hidden=256, n_classes=10):\n",
    "    return nn.Sequential(\n",
    "        nn.Flatten(),\n",
    "        nn.Linear(dim_num, n_hidden),\n",
    "        nn.ReLU(),\n",
    "        #nn.Dropout(.1),\n",
    "        nn.Linear(n_hidden, n_hidden),\n",
    "        nn.ReLU(),\n",
    "        #nn.Dropout(.1),\n",
    "        nn.Linear(n_hidden, n_classes)\n",
    "    )"
   ]
  },
  {
   "cell_type": "code",
   "execution_count": 58,
   "metadata": {},
   "outputs": [],
   "source": [
    "# two networks of different sizes to be trained\n",
    "net1 = getNeuralNet(dim_num, 32, 10)\n",
    "net2 = getNeuralNet(dim_num,  8, 10)\n",
    "# another network to stay randomly initialized\n",
    "net3 = getNeuralNet(dim_num,  8, 10) "
   ]
  },
  {
   "cell_type": "code",
   "execution_count": 59,
   "metadata": {
    "id": "IzLgx_YSBMxP"
   },
   "outputs": [],
   "source": [
    "#for name, param in model.named_parameters():\n",
    "#    print(f\"Layer: {name} | Size: {param.size()} | Values : {param[:2]} \\n\")"
   ]
  },
  {
   "cell_type": "code",
   "execution_count": 60,
   "metadata": {
    "id": "AhbhtehdBmt1"
   },
   "outputs": [],
   "source": [
    "learning_rate = 1e-3\n",
    "#batch_size = 64\n",
    "epochs = 4\n",
    "loss_fn = nn.CrossEntropyLoss()\n",
    "optimizer1 = torch.optim.Adam(net1.parameters(), lr=learning_rate)\n",
    "optimizer2 = torch.optim.Adam(net2.parameters(), lr=learning_rate)"
   ]
  },
  {
   "cell_type": "markdown",
   "metadata": {},
   "source": [
    "# Training"
   ]
  },
  {
   "cell_type": "code",
   "execution_count": 61,
   "metadata": {
    "id": "l-xLc677Dt8X"
   },
   "outputs": [],
   "source": [
    "def train_loop(dataloader, model, loss_fn, optimizer):\n",
    "    size = len(dataloader)\n",
    "    train_losses = []\n",
    "    for step, (X, y) in enumerate(dataloader):\n",
    "        # Compute prediction and loss\n",
    "        pred = model(X)\n",
    "        loss = loss_fn(pred, y)\n",
    "\n",
    "        # Backpropagation\n",
    "        optimizer.zero_grad()\n",
    "        loss.backward()\n",
    "        optimizer.step()\n",
    "        \n",
    "        train_losses.append(loss.item())\n",
    "        \n",
    "    return np.mean(train_losses)\n",
    "\n",
    "\n",
    "def test_loop(dataloader, model, loss_fn):\n",
    "    size = len(dataloader.dataset)\n",
    "    test_loss, correct = 0, 0\n",
    "    predictions = []\n",
    "    \n",
    "    with torch.no_grad():\n",
    "        for X,y in dataloader:\n",
    "            # Compute prediction and loss\n",
    "            pred = model(X)\n",
    "            predictions.append(pred)\n",
    "            test_loss += loss_fn(pred, y).item()\n",
    "            correct += (pred.argmax(1) == y).type(torch.float).sum().item()\n",
    "\n",
    "    test_loss /= size\n",
    "    correct /= size\n",
    "    print(f\"Test Error: \\n Accuracy: {(100*correct):>0.1f}%, Avg loss: {test_loss:>8f} \\n\")\n",
    "    \n",
    "    return predictions"
   ]
  },
  {
   "cell_type": "code",
   "execution_count": 62,
   "metadata": {
    "colab": {
     "base_uri": "https://localhost:8080/"
    },
    "id": "xWGtPpTvOmNL",
    "outputId": "befabc8c-d3ba-4365-bb96-f2907a59d6fb"
   },
   "outputs": [
    {
     "name": "stdout",
     "output_type": "stream",
     "text": [
      "Epoch 1/4\n",
      "Epoch 2/4\n",
      "Epoch 3/4\n",
      "Epoch 4/4\n",
      "Done!\n"
     ]
    }
   ],
   "source": [
    "losses1, losses2 = [], []\n",
    "from rich.progress import track\n",
    "for t in range(epochs):\n",
    "    print(\"Epoch {}/{}\".format(t+1,epochs))\n",
    "    losses1.append(train_loop(train_dataloader, net1, loss_fn, optimizer1))\n",
    "    losses2.append(train_loop(train_dataloader, net2, loss_fn, optimizer2))\n",
    "    #test_loop(test, test_labels, model, loss_fn)\n",
    "print(\"Done!\")"
   ]
  },
  {
   "cell_type": "code",
   "execution_count": 63,
   "metadata": {
    "colab": {
     "base_uri": "https://localhost:8080/"
    },
    "id": "9B0XPR-Kijxj",
    "outputId": "99af515f-8647-44fb-afa5-0c69cec69ae4"
   },
   "outputs": [
    {
     "name": "stdout",
     "output_type": "stream",
     "text": [
      "Test Error: \n",
      " Accuracy: 85.3%, Avg loss: 0.006446 \n",
      "\n",
      "Test Error: \n",
      " Accuracy: 82.5%, Avg loss: 0.008034 \n",
      "\n",
      "Test Error: \n",
      " Accuracy: 7.9%, Avg loss: 0.036435 \n",
      "\n"
     ]
    }
   ],
   "source": [
    "predictions1 = test_loop(test_dataloader, net1, loss_fn)\n",
    "predictions2 = test_loop(test_dataloader, net2, loss_fn)\n",
    "predictions3 = test_loop(test_dataloader, net3, loss_fn)"
   ]
  },
  {
   "cell_type": "code",
   "execution_count": 64,
   "metadata": {
    "colab": {
     "base_uri": "https://localhost:8080/",
     "height": 283
    },
    "id": "LsHAxDbl3_JV",
    "outputId": "773b5394-cdc6-4ef8-bfdc-225107e1ef9c"
   },
   "outputs": [
    {
     "data": {
      "image/png": "[encoded data removed]",
      "text/plain": [
       "<Figure size 432x288 with 1 Axes>"
      ]
     },
     "metadata": {
      "needs_background": "light"
     },
     "output_type": "display_data"
    }
   ],
   "source": [
    "import matplotlib.pyplot as plt\n",
    "plt.plot(losses1, label='Net 1')\n",
    "plt.plot(losses2, label='Net 2')\n",
    "plt.legend()\n",
    "plt.show()"
   ]
  },
  {
   "cell_type": "markdown",
   "metadata": {},
   "source": [
    "# Embeddings"
   ]
  },
  {
   "cell_type": "code",
   "execution_count": 65,
   "metadata": {},
   "outputs": [],
   "source": [
    "# Define function to get subnet from given network at index\n",
    "def get_subnet(parent_net, break_layer_idx = '1'):\n",
    "    children_list = []\n",
    "    for n,c in parent_net.named_children():\n",
    "        children_list.append(c)\n",
    "        if n == break_layer_idx:\n",
    "            break\n",
    "    sub_net = nn.Sequential(*children_list)\n",
    "    return sub_net"
   ]
  },
  {
   "cell_type": "code",
   "execution_count": 66,
   "metadata": {},
   "outputs": [],
   "source": [
    "# Print one of the original networks as reference\n",
    "#net1"
   ]
  },
  {
   "cell_type": "code",
   "execution_count": 67,
   "metadata": {},
   "outputs": [],
   "source": [
    "# Get the subnetworks\n",
    "sub_net1 = get_subnet(net1)\n",
    "sub_net2 = get_subnet(net2)\n",
    "sub_net3 = get_subnet(net3)"
   ]
  },
  {
   "cell_type": "code",
   "execution_count": 68,
   "metadata": {},
   "outputs": [],
   "source": [
    "#sub_net1"
   ]
  },
  {
   "cell_type": "code",
   "execution_count": 69,
   "metadata": {},
   "outputs": [],
   "source": [
    "# Get DataLoader with larger batch_size\n",
    "dl = DataLoader(training_data, batch_size=400, shuffle=False)\n",
    "batch_x, batch_y = next(iter(dl))"
   ]
  },
  {
   "cell_type": "code",
   "execution_count": 70,
   "metadata": {},
   "outputs": [],
   "source": [
    "# Get embeddings for batch\n",
    "emb1 = sub_net1(batch_x).detach().numpy()\n",
    "emb2 = sub_net2(batch_x).detach().numpy()\n",
    "emb3 = sub_net3(batch_x).detach().numpy()"
   ]
  },
  {
   "cell_type": "code",
   "execution_count": 71,
   "metadata": {},
   "outputs": [
    {
     "data": {
      "text/plain": [
       "((400, 32), (400, 8), (400, 8))"
      ]
     },
     "execution_count": 71,
     "metadata": {},
     "output_type": "execute_result"
    }
   ],
   "source": [
    "emb1.shape,emb2.shape,emb3.shape"
   ]
  },
  {
   "cell_type": "code",
   "execution_count": 72,
   "metadata": {},
   "outputs": [],
   "source": [
    "# Get t-SNE embeddings for the outputs\n",
    "from sklearn.manifold import TSNE\n",
    "tsne1 = TSNE(n_components=2).fit_transform(emb1)\n",
    "tsne2 = TSNE(n_components=2).fit_transform(emb2)\n",
    "tsne3 = TSNE(n_components=2).fit_transform(emb3)"
   ]
  },
  {
   "cell_type": "code",
   "execution_count": 73,
   "metadata": {},
   "outputs": [
    {
     "data": {
      "image/png": "[encoded data removed]",
      "text/plain": [
       "<Figure size 1008x288 with 3 Axes>"
      ]
     },
     "metadata": {
      "needs_background": "light"
     },
     "output_type": "display_data"
    }
   ],
   "source": [
    "plt.figure(figsize=(14,4))\n",
    "plt.subplot(131)\n",
    "plt.title('Trained model with 32 hidden units')\n",
    "plt.scatter(tsne1[:,0], tsne1[:,1], c=batch_y)\n",
    "plt.subplot(132)\n",
    "plt.title('Trained model with 8 hidden units')\n",
    "plt.scatter(tsne2[:,0], tsne2[:,1], c=batch_y)\n",
    "plt.subplot(133)\n",
    "plt.title('Unrained model with 8 hidden units')\n",
    "plt.scatter(tsne3[:,0], tsne3[:,1], c=batch_y)\n",
    "plt.show()"
   ]
  },
  {
   "cell_type": "markdown",
   "metadata": {},
   "source": [
    "# Embedding Fitness"
   ]
  },
  {
   "cell_type": "code",
   "execution_count": 114,
   "metadata": {},
   "outputs": [],
   "source": [
    "from sklearn.manifold._t_sne import _joint_probabilities, pairwise_distances\n",
    "from scipy.spatial.distance import pdist\n",
    "\n",
    "class TSNELoss():\n",
    "    \n",
    "    def __init__(self, parent_embeds, use_gaussians=True):\n",
    "        \n",
    "        # Cutoff to protect from division by zero errors\n",
    "        self.MACHINE_EPSILON = np.finfo(np.double).eps\n",
    "        \n",
    "        # Hard code the perplexity param from TSNE\n",
    "        self.perplexity = 30.0\n",
    "        \n",
    "        # Whether to use Gaussian PDFs for children\n",
    "        self.use_gaussians = use_gaussians\n",
    "        \n",
    "        # Initialize loss funciton with parent embeddings\n",
    "        self._load_joint_probs(parent_embeds)\n",
    "    \n",
    "    def _load_joint_probs(self, parent_embeds):\n",
    "        \"\"\"\n",
    "        Load the loss function with the parent's joint probability \n",
    "        distribution over the pairwise distances.\n",
    "        \n",
    "        Parameters\n",
    "        ----------\n",
    "        parent_embeds : array-like of shape (n_samples, n_parent_neurons)\n",
    "            Embeddings of the parent/base network\n",
    "        \"\"\"\n",
    "        \n",
    "        # Compute pairwise distance matrix\n",
    "        distances = pairwise_distances(\n",
    "            parent_embeds, \n",
    "            metric='euclidean', \n",
    "            squared=True\n",
    "        )\n",
    "\n",
    "        if np.any(distances < 0):\n",
    "            raise ValueError(\"All distances should be positive, the \"\n",
    "                             \"metric given is not correct\")\n",
    "\n",
    "        # Compute the joint probability distribution for the input space\n",
    "        P = _joint_probabilities(distances, self.perplexity, verbose=0)\n",
    "        \n",
    "        assert np.all(np.isfinite(P)), \"All probabilities should be finite\"\n",
    "        assert np.all(P >= 0), \"All probabilities should be non-negative\"\n",
    "        assert np.all(P <= 1), (\"All probabilities should be less \"\n",
    "                                \"or then equal to one\")\n",
    "        \n",
    "        self.P = P\n",
    "\n",
    "    def _child_dist(self, X_embedded, degrees_of_freedom, use_gaussians):\n",
    "        \"\"\"\n",
    "        Get distribution over child layers' embeddings.\n",
    "\n",
    "        Parameters\n",
    "        ----------\n",
    "        X_embedded : array-like of shape (n_samples, n_neurons)\n",
    "            Embeddings of the child network's layer.\n",
    "        degrees_of_freedom : int or float\n",
    "            Degrees of freedom of the Student's t-distribution.\n",
    "        use_gaussians : bool\n",
    "            Compute distribution in child embeddings space using Gaussians.\n",
    "            Else use Student's t-Distribution.\n",
    "            \n",
    "        Returns\n",
    "        -------\n",
    "        Q : array-like\n",
    "            Distribution of child embeddings\n",
    "        \"\"\"\n",
    "        \n",
    "        if use_gaussians:\n",
    "            dist = pairwise_distances(\n",
    "                X_embedded, \n",
    "                metric='euclidean', \n",
    "                squared=True\n",
    "            )\n",
    "            Q = _joint_probabilities(dist, self.perplexity, 0)\n",
    "        else:\n",
    "            # Q is a heavy-tailed distribution: Student's t-distribution\n",
    "            dist = pdist(X_embedded, \"sqeuclidean\")\n",
    "            #return dist\n",
    "            dist /= degrees_of_freedom\n",
    "            dist += 1.\n",
    "            dist **= (degrees_of_freedom + 1.0) / -2.0\n",
    "            Q = np.maximum(dist / (2.0 * np.sum(dist)), self.MACHINE_EPSILON)\n",
    "        \n",
    "        return Q\n",
    "        \n",
    "    def _kl_div(self, Q):\n",
    "        \"\"\"\n",
    "        Compute the KL divergence between distributions over the\n",
    "        parent and child layers' embeddings.        \n",
    "        \n",
    "        Parameters\n",
    "        ----------\n",
    "        Q : array-like\n",
    "            Distribution of child embeddings\n",
    "        \n",
    "        Returns\n",
    "        -------\n",
    "        kl_divergence : float\n",
    "            Kullback-Leibler divergence of p_ij and q_ij.\n",
    "        \"\"\"\n",
    "\n",
    "        # Optimization trick below: np.dot(x, y) is faster than\n",
    "        # np.sum(x * y) because it calls BLAS\n",
    "\n",
    "        # Objective: C (Kullback-Leibler divergence of P and Q)\n",
    "        kl_divergence = 2.0 * np.dot(\n",
    "            self.P, np.log(np.maximum(self.P, self.MACHINE_EPSILON) / Q))\n",
    "            \n",
    "        return kl_divergence\n",
    "\n",
    "    def __call__(self, compressed_embeds):\n",
    "        \n",
    "        # Set the degrees of freedom for the Q distribution as\n",
    "        # the number of neurons in the child's layer\n",
    "        degrees_of_freedom = compressed_embeds.shape[1]\n",
    "        \n",
    "        Q = self._child_dist(\n",
    "            compressed_embeds, \n",
    "            degrees_of_freedom, \n",
    "            self.use_gaussians\n",
    "        )\n",
    "        \n",
    "        loss = self._kl_div(Q)\n",
    "        \n",
    "        return loss"
   ]
  },
  {
   "cell_type": "code",
   "execution_count": 121,
   "metadata": {},
   "outputs": [],
   "source": [
    "from utils import measure_exec_time"
   ]
  },
  {
   "cell_type": "code",
   "execution_count": 122,
   "metadata": {},
   "outputs": [],
   "source": [
    "tsne_loss = TSNELoss(emb1, use_gaussians=False)"
   ]
  },
  {
   "cell_type": "code",
   "execution_count": 123,
   "metadata": {},
   "outputs": [
    {
     "name": "stdout",
     "output_type": "stream",
     "text": [
      "0.6671456683896446\n"
     ]
    }
   ],
   "source": [
    "loss_val = tsne_loss(emb2)\n",
    "print(loss_val)"
   ]
  },
  {
   "cell_type": "code",
   "execution_count": 124,
   "metadata": {},
   "outputs": [
    {
     "name": "stdout",
     "output_type": "stream",
     "text": [
      "2.1463986081467636\n"
     ]
    }
   ],
   "source": [
    "loss_val = tsne_loss(emb3)\n",
    "print(loss_val)"
   ]
  },
  {
   "cell_type": "code",
   "execution_count": null,
   "metadata": {},
   "outputs": [],
   "source": [
    "measure_exec_time(tsne_loss, emb2)"
   ]
  },
  {
   "cell_type": "code",
   "execution_count": 111,
   "metadata": {},
   "outputs": [
    {
     "name": "stdout",
     "output_type": "stream",
     "text": [
      "Execution took 0.31470394134521484 seconds\n"
     ]
    }
   ],
   "source": [
    "measure_exec_time(dist_loss, [emb1], [emb2])"
   ]
  },
  {
   "cell_type": "code",
   "execution_count": 78,
   "metadata": {},
   "outputs": [],
   "source": [
    "import sys\n",
    "sys.path.append('..')\n",
    "from losses import DistanceLoss"
   ]
  },
  {
   "cell_type": "code",
   "execution_count": 100,
   "metadata": {},
   "outputs": [],
   "source": [
    "dist_loss = DistanceLoss()"
   ]
  },
  {
   "cell_type": "code",
   "execution_count": 101,
   "metadata": {},
   "outputs": [
    {
     "data": {
      "text/plain": [
       "0.004820520058274269"
      ]
     },
     "execution_count": 101,
     "metadata": {},
     "output_type": "execute_result"
    }
   ],
   "source": [
    "dist_loss([emb1], [emb2])"
   ]
  },
  {
   "cell_type": "code",
   "execution_count": 102,
   "metadata": {},
   "outputs": [
    {
     "data": {
      "text/plain": [
       "0.01219495665282011"
      ]
     },
     "execution_count": 102,
     "metadata": {},
     "output_type": "execute_result"
    }
   ],
   "source": [
    "dist_loss([emb1], [emb3])"
   ]
  },
  {
   "cell_type": "markdown",
   "metadata": {},
   "source": [
    "\n",
    "\n",
    "---\n",
    "\n"
   ]
  },
  {
   "cell_type": "code",
   "execution_count": 22,
   "metadata": {},
   "outputs": [],
   "source": [
    "EPSCUT = np.finfo(np.double).eps"
   ]
  },
  {
   "cell_type": "code",
   "execution_count": 7,
   "metadata": {
    "tags": []
   },
   "outputs": [],
   "source": [
    "#euclid = lambda x,y: np.linalg.norm(x-y,ord=2)\n",
    "\n",
    "def p_j_i(embeddings, j, i):\n",
    "    \n",
    "    p_func = lambda xj,xi: \n",
    "        np.exp(-paired_distances([xi], [xj])**2 / 2*sigmai2)\n",
    "    \n",
    "    q_func = lambda xj,xi:\n",
    "        1 / np.max(1 + paired_distances([xi],[xj])**2, EPSCUT)\n",
    "    \n",
    "    nominator = q_func(embeddings[j], embeddings[i])\n",
    "    \n",
    "    denominator = np.sum([\n",
    "        q_func(embeddings[k], embeddings[i])\n",
    "            for k in range(len(embeddings)) if k != i\n",
    "    ])\n",
    "    \n",
    "    return nominator / denominator\n",
    "\n",
    "def pij(embeddings, i, j):\n",
    "    N = len(embeddings)\n",
    "    return (p_j_i(embeddings, j, i) + p_j_i(embeddings, i, j)) / 2*N"
   ]
  }
 ],
 "metadata": {
  "accelerator": "GPU",
  "colab": {
   "collapsed_sections": [],
   "name": "NatCo Project.ipynb",
   "provenance": []
  },
  "kernelspec": {
   "display_name": "Python 3",
   "language": "python",
   "name": "python3"
  },
  "language_info": {
   "codemirror_mode": {
    "name": "ipython",
    "version": 3
   },
   "file_extension": ".py",
   "mimetype": "text/x-python",
   "name": "python",
   "nbconvert_exporter": "python",
   "pygments_lexer": "ipython3",
   "version": "3.9.2"
  }
 },
 "nbformat": 4,
 "nbformat_minor": 4
}
